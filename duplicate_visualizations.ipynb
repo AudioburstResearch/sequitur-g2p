{
  "nbformat": 4,
  "nbformat_minor": 0,
  "metadata": {
    "colab": {
      "name": "duplicate visualizations",
      "provenance": [],
      "collapsed_sections": [],
      "mount_file_id": "1NWLffuT0etSH7liWcPyuJR2HieYMKH1m",
      "authorship_tag": "ABX9TyO13I7//1zRb/IfGKMXd+Er",
      "include_colab_link": true
    },
    "kernelspec": {
      "name": "python3",
      "display_name": "Python 3"
    }
  },
  "cells": [
    {
      "cell_type": "markdown",
      "metadata": {
        "id": "view-in-github",
        "colab_type": "text"
      },
      "source": [
        "<a href=\"https://colab.research.google.com/github/AudioburstResearch/sequitur-g2p/blob/master/duplicate_visualizations.ipynb\" target=\"_parent\"><img src=\"https://colab.research.google.com/assets/colab-badge.svg\" alt=\"Open In Colab\"/></a>"
      ]
    },
    {
      "cell_type": "code",
      "metadata": {
        "id": "quurmU01dqy-",
        "colab_type": "code",
        "colab": {}
      },
      "source": [
        "import json\n",
        "import numpy as np\n",
        "import pandas as pd\n",
        "import matplotlib.pyplot as plt"
      ],
      "execution_count": null,
      "outputs": []
    },
    {
      "cell_type": "code",
      "metadata": {
        "id": "zmm_GmDsdvkh",
        "colab_type": "code",
        "colab": {}
      },
      "source": [
        "path = 'drive/My Drive/bursts_list_for_tagging_200_210 - 21 April.tsv'\n",
        "data = pd.read_csv(path, encoding='utf8', sep = '\\t')"
      ],
      "execution_count": null,
      "outputs": []
    },
    {
      "cell_type": "code",
      "metadata": {
        "id": "9aO-mOFXd9_s",
        "colab_type": "code",
        "colab": {}
      },
      "source": [
        "\n",
        "data['unique_playlist'] = data.apply(lambda row: str(row.playlist_id) + \n",
        "                                  row.date, axis = 1) \n",
        "playlist_names = data.unique_playlist.unique()\n",
        "playlist_lens = []\n",
        "dups = []\n",
        "for playlist in playlist_names:\n",
        "    playlist_frame = data.loc[data['unique_playlist'] == playlist]\n",
        "    playlist_frame = playlist_frame.reset_index()\n",
        "    stories = playlist_frame.story.unique()\n",
        "    playlist_lens.append(playlist_frame.shape[0])\n",
        "    dups.append(playlist_frame.shape[0]-len(stories))\n",
        "TP =[ 3,0,15,4,0,2,0,2,3,1,3,6,0,2,2,0,3,0,0,1,0,4,1,0,2,3,1,7,5,2,2]\n",
        "FP = [6,10,3,7,6,9,3,4,2,10,3,5,3,3,0,3,3,5,5,3,6,4,3,4,2,6,3,2,4,3,2]\n",
        "\n",
        "\n",
        "\n",
        "\n",
        "df = pd.DataFrame(list(zip(playlist_names, dups, TP, FP)), columns=[\"playlist_name\",  \"duplicates in playlist\", \"true positive\", \"false positive\"])"
      ],
      "execution_count": null,
      "outputs": []
    },
    {
      "cell_type": "code",
      "metadata": {
        "id": "vSR5-edqw25U",
        "colab_type": "code",
        "colab": {
          "base_uri": "https://localhost:8080/",
          "height": 85
        },
        "outputId": "b2a52b02-315a-4853-839c-19e59945cae1"
      },
      "source": [
        "\n",
        "print(np.var(TP))\n",
        "m = sum(TP) / len(TP)\n",
        "print(m)\n",
        "\n",
        "\n",
        "print(np.var(FP))\n",
        "m = sum(FP) / len(FP)\n",
        "print(m)"
      ],
      "execution_count": null,
      "outputs": [
        {
          "output_type": "stream",
          "text": [
            "8.624349635796046\n",
            "2.3870967741935485\n",
            "5.352757544224767\n",
            "4.258064516129032\n"
          ],
          "name": "stdout"
        }
      ]
    },
    {
      "cell_type": "code",
      "metadata": {
        "id": "tG0AB-t_fs05",
        "colab_type": "code",
        "colab": {
          "base_uri": "https://localhost:8080/",
          "height": 1000
        },
        "outputId": "e7a37bfd-ef9d-4e4f-a69f-863586106ccd"
      },
      "source": [
        "df"
      ],
      "execution_count": null,
      "outputs": [
        {
          "output_type": "execute_result",
          "data": {
            "text/html": [
              "<div>\n",
              "<style scoped>\n",
              "    .dataframe tbody tr th:only-of-type {\n",
              "        vertical-align: middle;\n",
              "    }\n",
              "\n",
              "    .dataframe tbody tr th {\n",
              "        vertical-align: top;\n",
              "    }\n",
              "\n",
              "    .dataframe thead th {\n",
              "        text-align: right;\n",
              "    }\n",
              "</style>\n",
              "<table border=\"1\" class=\"dataframe\">\n",
              "  <thead>\n",
              "    <tr style=\"text-align: right;\">\n",
              "      <th></th>\n",
              "      <th>playlist_name</th>\n",
              "      <th>bursts</th>\n",
              "      <th>dups</th>\n",
              "    </tr>\n",
              "  </thead>\n",
              "  <tbody>\n",
              "    <tr>\n",
              "      <th>0</th>\n",
              "      <td>20021/04/2020</td>\n",
              "      <td>17</td>\n",
              "      <td>3</td>\n",
              "    </tr>\n",
              "    <tr>\n",
              "      <th>1</th>\n",
              "      <td>20029/04/2020</td>\n",
              "      <td>24</td>\n",
              "      <td>3</td>\n",
              "    </tr>\n",
              "    <tr>\n",
              "      <th>2</th>\n",
              "      <td>20010/05/2020</td>\n",
              "      <td>36</td>\n",
              "      <td>16</td>\n",
              "    </tr>\n",
              "    <tr>\n",
              "      <th>3</th>\n",
              "      <td>20121/04/2020</td>\n",
              "      <td>18</td>\n",
              "      <td>4</td>\n",
              "    </tr>\n",
              "    <tr>\n",
              "      <th>4</th>\n",
              "      <td>20129/04/2020</td>\n",
              "      <td>14</td>\n",
              "      <td>1</td>\n",
              "    </tr>\n",
              "    <tr>\n",
              "      <th>5</th>\n",
              "      <td>20110/05/2020</td>\n",
              "      <td>23</td>\n",
              "      <td>4</td>\n",
              "    </tr>\n",
              "    <tr>\n",
              "      <th>6</th>\n",
              "      <td>20221/04/2020</td>\n",
              "      <td>15</td>\n",
              "      <td>1</td>\n",
              "    </tr>\n",
              "    <tr>\n",
              "      <th>7</th>\n",
              "      <td>20229/04/2020</td>\n",
              "      <td>17</td>\n",
              "      <td>4</td>\n",
              "    </tr>\n",
              "    <tr>\n",
              "      <th>8</th>\n",
              "      <td>20210/05/2020</td>\n",
              "      <td>16</td>\n",
              "      <td>3</td>\n",
              "    </tr>\n",
              "    <tr>\n",
              "      <th>9</th>\n",
              "      <td>20321/04/2020</td>\n",
              "      <td>18</td>\n",
              "      <td>4</td>\n",
              "    </tr>\n",
              "    <tr>\n",
              "      <th>10</th>\n",
              "      <td>20329/04/2020</td>\n",
              "      <td>15</td>\n",
              "      <td>4</td>\n",
              "    </tr>\n",
              "    <tr>\n",
              "      <th>11</th>\n",
              "      <td>20310/05/2020</td>\n",
              "      <td>20</td>\n",
              "      <td>6</td>\n",
              "    </tr>\n",
              "    <tr>\n",
              "      <th>12</th>\n",
              "      <td>20421/04/2020</td>\n",
              "      <td>11</td>\n",
              "      <td>0</td>\n",
              "    </tr>\n",
              "    <tr>\n",
              "      <th>13</th>\n",
              "      <td>20429/04/2020</td>\n",
              "      <td>10</td>\n",
              "      <td>3</td>\n",
              "    </tr>\n",
              "    <tr>\n",
              "      <th>14</th>\n",
              "      <td>20410/05/2020</td>\n",
              "      <td>10</td>\n",
              "      <td>2</td>\n",
              "    </tr>\n",
              "    <tr>\n",
              "      <th>15</th>\n",
              "      <td>20521/04/2020</td>\n",
              "      <td>13</td>\n",
              "      <td>1</td>\n",
              "    </tr>\n",
              "    <tr>\n",
              "      <th>16</th>\n",
              "      <td>20529/04/2020</td>\n",
              "      <td>14</td>\n",
              "      <td>4</td>\n",
              "    </tr>\n",
              "    <tr>\n",
              "      <th>17</th>\n",
              "      <td>20510/05/2020</td>\n",
              "      <td>15</td>\n",
              "      <td>0</td>\n",
              "    </tr>\n",
              "    <tr>\n",
              "      <th>18</th>\n",
              "      <td>20621/04/2020</td>\n",
              "      <td>12</td>\n",
              "      <td>2</td>\n",
              "    </tr>\n",
              "    <tr>\n",
              "      <th>19</th>\n",
              "      <td>20629/04/2020</td>\n",
              "      <td>11</td>\n",
              "      <td>2</td>\n",
              "    </tr>\n",
              "    <tr>\n",
              "      <th>20</th>\n",
              "      <td>20610/05/2020</td>\n",
              "      <td>16</td>\n",
              "      <td>2</td>\n",
              "    </tr>\n",
              "    <tr>\n",
              "      <th>21</th>\n",
              "      <td>20721/04/2020</td>\n",
              "      <td>16</td>\n",
              "      <td>5</td>\n",
              "    </tr>\n",
              "    <tr>\n",
              "      <th>22</th>\n",
              "      <td>20729/04/2020</td>\n",
              "      <td>12</td>\n",
              "      <td>1</td>\n",
              "    </tr>\n",
              "    <tr>\n",
              "      <th>23</th>\n",
              "      <td>20710/05/2020</td>\n",
              "      <td>10</td>\n",
              "      <td>1</td>\n",
              "    </tr>\n",
              "    <tr>\n",
              "      <th>24</th>\n",
              "      <td>20821/04/2020</td>\n",
              "      <td>11</td>\n",
              "      <td>5</td>\n",
              "    </tr>\n",
              "    <tr>\n",
              "      <th>25</th>\n",
              "      <td>20829/04/2020</td>\n",
              "      <td>13</td>\n",
              "      <td>5</td>\n",
              "    </tr>\n",
              "    <tr>\n",
              "      <th>26</th>\n",
              "      <td>20810/05/2020</td>\n",
              "      <td>12</td>\n",
              "      <td>1</td>\n",
              "    </tr>\n",
              "    <tr>\n",
              "      <th>27</th>\n",
              "      <td>20921/04/2020</td>\n",
              "      <td>26</td>\n",
              "      <td>7</td>\n",
              "    </tr>\n",
              "    <tr>\n",
              "      <th>28</th>\n",
              "      <td>20929/04/2020</td>\n",
              "      <td>20</td>\n",
              "      <td>5</td>\n",
              "    </tr>\n",
              "    <tr>\n",
              "      <th>29</th>\n",
              "      <td>20910/05/2020</td>\n",
              "      <td>19</td>\n",
              "      <td>2</td>\n",
              "    </tr>\n",
              "    <tr>\n",
              "      <th>30</th>\n",
              "      <td>21021/04/2020</td>\n",
              "      <td>12</td>\n",
              "      <td>2</td>\n",
              "    </tr>\n",
              "  </tbody>\n",
              "</table>\n",
              "</div>"
            ],
            "text/plain": [
              "    playlist_name  bursts  dups\n",
              "0   20021/04/2020      17     3\n",
              "1   20029/04/2020      24     3\n",
              "2   20010/05/2020      36    16\n",
              "3   20121/04/2020      18     4\n",
              "4   20129/04/2020      14     1\n",
              "5   20110/05/2020      23     4\n",
              "6   20221/04/2020      15     1\n",
              "7   20229/04/2020      17     4\n",
              "8   20210/05/2020      16     3\n",
              "9   20321/04/2020      18     4\n",
              "10  20329/04/2020      15     4\n",
              "11  20310/05/2020      20     6\n",
              "12  20421/04/2020      11     0\n",
              "13  20429/04/2020      10     3\n",
              "14  20410/05/2020      10     2\n",
              "15  20521/04/2020      13     1\n",
              "16  20529/04/2020      14     4\n",
              "17  20510/05/2020      15     0\n",
              "18  20621/04/2020      12     2\n",
              "19  20629/04/2020      11     2\n",
              "20  20610/05/2020      16     2\n",
              "21  20721/04/2020      16     5\n",
              "22  20729/04/2020      12     1\n",
              "23  20710/05/2020      10     1\n",
              "24  20821/04/2020      11     5\n",
              "25  20829/04/2020      13     5\n",
              "26  20810/05/2020      12     1\n",
              "27  20921/04/2020      26     7\n",
              "28  20929/04/2020      20     5\n",
              "29  20910/05/2020      19     2\n",
              "30  21021/04/2020      12     2"
            ]
          },
          "metadata": {
            "tags": []
          },
          "execution_count": 10
        }
      ]
    },
    {
      "cell_type": "code",
      "metadata": {
        "id": "FliJE5kofu6M",
        "colab_type": "code",
        "colab": {
          "base_uri": "https://localhost:8080/",
          "height": 363
        },
        "outputId": "f2d538d8-1a3b-4e17-a409-68e815dd3070"
      },
      "source": [
        "df.plot.bar(x = 0, y = [1, 2, 3])"
      ],
      "execution_count": null,
      "outputs": [
        {
          "output_type": "execute_result",
          "data": {
            "text/plain": [
              "<matplotlib.axes._subplots.AxesSubplot at 0x7fa0c8b467f0>"
            ]
          },
          "metadata": {
            "tags": []
          },
          "execution_count": 17
        },
        {
          "output_type": "display_data",
          "data": {
            "image/png": "[encoded data removed]",
            "text/plain": [
              "<Figure size 432x288 with 1 Axes>"
            ]
          },
          "metadata": {
            "tags": [],
            "needs_background": "light"
          }
        }
      ]
    }
  ]
}